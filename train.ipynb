{
 "cells": [
  {
   "cell_type": "markdown",
   "metadata": {},
   "source": [
    "#### Kaggle link: https://www.kaggle.com/datasets/oktayrdeki/heart-disease/data"
   ]
  },
  {
   "cell_type": "code",
   "execution_count": 50,
   "metadata": {},
   "outputs": [],
   "source": [
    "# Importing the required libraries and modules\n",
    "\n",
    "import pandas as pd\n",
    "import numpy as np\n",
    "import seaborn as sns\n",
    "import matplotlib.pyplot as plt\n",
    "from sklearn.model_selection import train_test_split\n",
    "from sklearn.preprocessing import StandardScaler\n",
    "from sklearn.linear_model import LogisticRegression\n",
    "from sklearn.metrics import accuracy_score, confusion_matrix, roc_curve, auc\n",
    "from sklearn.ensemble import RandomForestClassifier\n",
    "from sklearn.svm import SVC\n",
    "from sklearn.ensemble import VotingClassifier\n",
    "import dtale\n",
    "from ydata_profiling import ProfileReport\n",
    "from sklearn.preprocessing import OrdinalEncoder\n",
    "import streamlit as st\n",
    "from sklearn.pipeline import Pipeline\n",
    "from sklearn.pipeline import make_pipeline\n",
    "from sklearn.impute import SimpleImputer\n",
    "from sklearn.compose import ColumnTransformer\n",
    "import joblib"
   ]
  },
  {
   "cell_type": "code",
   "execution_count": 41,
   "metadata": {},
   "outputs": [],
   "source": [
    "# Ignore warnings\n",
    "\n",
    "import warnings\n",
    "warnings.filterwarnings('ignore', category=DeprecationWarning)"
   ]
  },
  {
   "cell_type": "code",
   "execution_count": 44,
   "metadata": {},
   "outputs": [],
   "source": [
    "# Loading dataset\n",
    "\n",
    "df = pd.read_csv('/home/momtahin/Documents/Heart Disease Detaction/data/heart_disease.csv')"
   ]
  },
  {
   "cell_type": "code",
   "execution_count": null,
   "metadata": {},
   "outputs": [],
   "source": [
    "# Creating a data summary report using \"D-Tale\"\n",
    "\n",
    "d_tale = dtale.show(df) # Start D-Tale (Preferred method)\n",
    "d_tale.open_browser() # Open the browser to view the report"
   ]
  },
  {
   "cell_type": "code",
   "execution_count": 45,
   "metadata": {},
   "outputs": [
    {
     "name": "stdout",
     "output_type": "stream",
     "text": [
      "Age                       29\n",
      "Gender                    19\n",
      "Blood Pressure            19\n",
      "Cholesterol Level         30\n",
      "Exercise Habits           25\n",
      "Smoking                   25\n",
      "Family Heart Disease      21\n",
      "Diabetes                  30\n",
      "BMI                       22\n",
      "High Blood Pressure       26\n",
      "Low HDL Cholesterol       25\n",
      "High LDL Cholesterol      26\n",
      "Alcohol Consumption     2586\n",
      "Stress Level              22\n",
      "Sleep Hours               25\n",
      "Sugar Consumption         30\n",
      "Triglyceride Level        26\n",
      "Fasting Blood Sugar       22\n",
      "CRP Level                 26\n",
      "Homocysteine Level        20\n",
      "Heart Disease Status       0\n",
      "dtype: int64\n",
      "Percentage of rows with at least one missing data: 4.68%\n"
     ]
    },
    {
     "name": "stderr",
     "output_type": "stream",
     "text": [
      "/tmp/ipykernel_3628/3444037687.py:6: FutureWarning:\n",
      "\n",
      "A value is trying to be set on a copy of a DataFrame or Series through chained assignment using an inplace method.\n",
      "The behavior will change in pandas 3.0. This inplace method will never work because the intermediate object on which we are setting values always behaves as a copy.\n",
      "\n",
      "For example, when doing 'df[col].method(value, inplace=True)', try using 'df.method({col: value}, inplace=True)' or df[col] = df[col].method(value) instead, to perform the operation inplace on the original object.\n",
      "\n",
      "\n",
      "\n"
     ]
    }
   ],
   "source": [
    "# Missing value handling\n",
    "\n",
    "print(df.isnull().sum())\n",
    "\n",
    "# In column named 'Alcohol Consumption' null value is for no consumption. It's needed to be modified.\n",
    "df['Alcohol Consumption'].fillna(value=\"Zero\", inplace=True)\n",
    "\n",
    "print(f'Percentage of rows with at least one missing data: {(df.isnull().any(axis=1).sum())/100}%')"
   ]
  },
  {
   "cell_type": "code",
   "execution_count": 47,
   "metadata": {},
   "outputs": [],
   "source": [
    "# Define features and target variable\n",
    "\n",
    "X = df.drop('Heart Disease Status', axis=1) # Removes 'Heart Disease Status' from df, assigning remaining features to X.\n",
    "y = df['Heart Disease Status']"
   ]
  },
  {
   "cell_type": "code",
   "execution_count": 48,
   "metadata": {},
   "outputs": [],
   "source": [
    "# Split the data into training and testing sets. stratify=y preserves class proportions, ensuring a fair and representative split for training and testing. \n",
    "\n",
    "X_train, X_test, y_train, y_test = train_test_split(X, y, test_size=0.2, random_state=42, stratify=y)"
   ]
  },
  {
   "cell_type": "code",
   "execution_count": 49,
   "metadata": {},
   "outputs": [
    {
     "name": "stdout",
     "output_type": "stream",
     "text": [
      "Outlier occurrences in Age: Zero \n",
      "\n",
      "Outlier occurrences in Blood Pressure: Zero \n",
      "\n",
      "Outlier occurrences in Cholesterol Level: Zero \n",
      "\n",
      "Outlier occurrences in BMI: Zero \n",
      "\n",
      "Outlier occurrences in Sleep Hours: Zero \n",
      "\n",
      "Outlier occurrences in Triglyceride Level: Zero \n",
      "\n",
      "Outlier occurrences in Fasting Blood Sugar: Zero \n",
      "\n",
      "Outlier occurrences in CRP Level: Zero \n",
      "\n",
      "Outlier occurrences in Homocysteine Level: Zero \n",
      "\n"
     ]
    }
   ],
   "source": [
    "# Outlier detection and treatment by creating boxplot to visualize the distribution of the columns\n",
    "\n",
    "#%matplotlib inline\n",
    "# Define a function to detect and treat outliers using the IQR method\n",
    "def detect_outliers(input_col):\n",
    "    Q1 = input_col.quantile(0.25) # Calculate the first quartile\n",
    "    Q3 = input_col.quantile(0.75) # Calculate the third quartile\n",
    "    IQR = Q3 - Q1 # Calculate the interquartile range\n",
    "    lower_bound = Q1 - 1.5 * IQR # Calculate the lower bound\n",
    "    upper_bound = Q3 + 1.5 * IQR # Calculate the upper bound\n",
    "    return (input_col < lower_bound) | (input_col > upper_bound) # Return the outliers\n",
    "\n",
    "num_col = X_train.select_dtypes(include=[np.number]).columns\n",
    "\n",
    "for column in num_col:\n",
    "    outliers = detect_outliers(X_train[column]) # Detect outliers by calling the detect_outliers function\n",
    "    count = outliers.value_counts()\n",
    "    if True in count and count[True] > 0:\n",
    "        print(f\"Outlier occurrences in {column}:\", count, \"\\n\") # Print unique occurrences of outliers (True for outlier otherwise False)\n",
    "    else:\n",
    "        print(f\"Outlier occurrences in {column}:\", 'Zero', \"\\n\")\n",
    "# Result: There was no significant outlier."
   ]
  },
  {
   "cell_type": "code",
   "execution_count": 61,
   "metadata": {},
   "outputs": [
    {
     "name": "stdout",
     "output_type": "stream",
     "text": [
      "Accuracy: 0.8\n"
     ]
    }
   ],
   "source": [
    "\n",
    "\n",
    "# Data preprocessing with pipelines\n",
    "num_col = X_train.select_dtypes(include=[np.number]).columns\n",
    "cat_col = X_train.select_dtypes(include=[object]).columns\n",
    "\n",
    "# Numerical pipeline\n",
    "num_pipeline = Pipeline(steps = [\n",
    "    ('impute', SimpleImputer(strategy='mean')),\n",
    "    ('scale', StandardScaler())\n",
    "])\n",
    "\n",
    "# Categorical pipeline\n",
    "cat_pipeline = Pipeline(steps=[\n",
    "    ('impute', SimpleImputer(strategy='most_frequent')),\n",
    "    ('encode', OrdinalEncoder(handle_unknown='use_encoded_value', unknown_value=-1))\n",
    "])\n",
    "\n",
    "# Combine numerical and categorical pipelines\n",
    "col_transformer = ColumnTransformer(transformers = [\n",
    "    ('num_pipeline', num_pipeline, num_col),\n",
    "    ('cat_pipeline', cat_pipeline, cat_col)\n",
    "])\n",
    "\n",
    "models = [\n",
    "    ('Logistic Regression', LogisticRegression()),\n",
    "    ('Random Forest', RandomForestClassifier()),\n",
    "    ('SVM', SVC())\n",
    "]\n",
    "\n",
    "# Create the VotingClassifier with hard voting (majority vote). It will choose the class label with the majority of votes from the individual models.\n",
    "voting_clf = VotingClassifier(estimators = models, voting = 'hard')\n",
    "\n",
    "# Create a pipeline with pre-processing and the voting classifier\n",
    "final_pipeline = Pipeline(steps=[\n",
    "    ('preprocessor', col_transformer),\n",
    "    ('voting_classifier', voting_clf)\n",
    "])\n",
    "\n",
    "\n",
    "# Train the model\n",
    "final_pipeline.fit(X_train, y_train)\n",
    "\n",
    "# Make predictions\n",
    "y_pred = final_pipeline.predict(X_test)\n",
    "\n",
    "# Calculate accuracy\n",
    "accuracy = accuracy_score(y_test, y_pred)\n",
    "print(f\"Accuracy: {accuracy}\")"
   ]
  },
  {
   "cell_type": "code",
   "execution_count": 62,
   "metadata": {},
   "outputs": [
    {
     "data": {
      "text/plain": [
       "['/home/momtahin/Documents/Heart Disease Detaction/src/model.pkl']"
      ]
     },
     "execution_count": 62,
     "metadata": {},
     "output_type": "execute_result"
    }
   ],
   "source": [
    "# Save the model\n",
    "joblib.dump(final_pipeline, filename=\"/home/momtahin/Documents/Heart Disease Detaction/src/model.pkl\") # Save the model as a pickle file"
   ]
  },
  {
   "cell_type": "code",
   "execution_count": 66,
   "metadata": {},
   "outputs": [
    {
     "data": {
      "image/png": "[encoded data removed]",
      "text/plain": [
       "<Figure size 1000x700 with 2 Axes>"
      ]
     },
     "metadata": {},
     "output_type": "display_data"
    }
   ],
   "source": [
    "cm = confusion_matrix(y_test, y_pred)\n",
    "class_names = y_test.unique()  # Define class names based on unique values in y_test\n",
    "# Plotting the confusion matrix\n",
    "plt.figure(figsize=(10, 7))\n",
    "sns.heatmap(cm, annot=True, fmt='d', cmap='Blues', xticklabels=class_names, yticklabels=class_names)\n",
    "plt.xlabel('Predicted')\n",
    "plt.ylabel('Actual')\n",
    "plt.title('Confusion Matrix')\n",
    "plt.show()"
   ]
  },
  {
   "cell_type": "code",
   "execution_count": null,
   "metadata": {},
   "outputs": [],
   "source": []
  }
 ],
 "metadata": {
  "kernelspec": {
   "display_name": ".venv",
   "language": "python",
   "name": "python3"
  },
  "language_info": {
   "codemirror_mode": {
    "name": "ipython",
    "version": 3
   },
   "file_extension": ".py",
   "mimetype": "text/x-python",
   "name": "python",
   "nbconvert_exporter": "python",
   "pygments_lexer": "ipython3",
   "version": "3.10.12"
  }
 },
 "nbformat": 4,
 "nbformat_minor": 2
}
